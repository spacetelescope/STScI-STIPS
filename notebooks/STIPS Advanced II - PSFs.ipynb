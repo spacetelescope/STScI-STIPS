{
 "cells": [
  {
   "cell_type": "markdown",
   "id": "2f9bfcc8",
   "metadata": {},
   "source": [
    "# STIPS Advanced II – PSFs, Adding Sources\n",
    "\n",
    "This portion of the Advanced tutorial concerns the generation and manipulation of PSFs using STIPS functions.  As with Advanced I, this notebook assumes both that you already have STIPS installed (see [Installing STIPS](https://stsci-stips.readthedocs.io/en/latest/installation.html) if not) and that you are comfortable with basic usage of STIPS functionalities (see [STIPS Basic Tutorial](https://stips.readthedocs.io/en/latest/basic_tutorial.html), or the Basic Tutorial notebook, if not).\n",
    "\n",
    "#### Note:\n",
    "The ```makePSF``` package is still undergoing development –– pending the inclusion of logging functions and error catching, as well as some functional optimization.  This tutorial will be updated to reflect this in future releases."
   ]
  },
  {
   "cell_type": "markdown",
   "id": "04736e27",
   "metadata": {},
   "source": [
    "## Checking STIPS Import, Adding Modules\n",
    "\n",
    "Before beginning, check again that the STIPS import is correct, and import and configure a few modules we'll be needing.  Additionally, ensure that the generated files from the Basic Tutorial are visible in your \"notebooks\" folder/the directory from which you are working."
   ]
  },
  {
   "cell_type": "code",
   "execution_count": null,
   "id": "1d1ee27f",
   "metadata": {},
   "outputs": [],
   "source": [
    "from astropy.io import fits\n",
    "from glob import glob\n",
    "from matplotlib import style\n",
    "import matplotlib\n",
    "import matplotlib.pyplot as plt\n",
    "import matplotlib.ticker as ticker\n",
    "import numpy as np\n",
    "import stips\n",
    "\n",
    "%matplotlib inline\n",
    "%config InlineBackend.figure_format = 'svg'\n",
    "\n",
    "matplotlib.rcParams['axes.grid'] = False\n",
    "matplotlib.rcParams['image.origin'] = 'lower'\n",
    "\n",
    "print(stips.__env__report__)"
   ]
  },
  {
   "cell_type": "code",
   "execution_count": null,
   "id": "fe582f27",
   "metadata": {},
   "outputs": [],
   "source": [
    "file_list = glob('notebooks_data/notebook_example*')\n",
    "print(file_list)"
   ]
  },
  {
   "cell_type": "markdown",
   "id": "ccedccb0",
   "metadata": {},
   "source": [
    "## Generating and Manipulating a PSF\n",
    "\n",
    "PSFs can be generated using FITS input files and the makePSF module within STIPS.  For this example, we will be using the example PSF file \"psf_WFI_2.0.0_F129_wfi01.fits\", a PSF generated with Roman WFI F129.  This file is available in the \"notebooks\" directory of STIPS.  The generated PSF will be returned as an array."
   ]
  },
  {
   "cell_type": "code",
   "execution_count": null,
   "id": "c214dd85",
   "metadata": {},
   "outputs": [],
   "source": [
    "example_file = fits.open('notebooks_data/psf_WFI_2.0.0_F129_wfi01.fits')\n",
    "\n",
    "test_psf = stips.utilities.makePSF.make_epsf(example_file[0].data[0])\n",
    "\n",
    "print(test_psf)"
   ]
  },
  {
   "cell_type": "markdown",
   "id": "a2d545fd",
   "metadata": {},
   "source": [
    "We can view a plot of our generated PSF using pyplot."
   ]
  },
  {
   "cell_type": "code",
   "execution_count": null,
   "id": "8036af8b",
   "metadata": {},
   "outputs": [],
   "source": [
    "fig1 = plt.figure()\n",
    "im1 = plt.matshow(test_psf)\n",
    "plt.savefig('notebooks_data/adv_notebook_epsf_orig.jpeg')"
   ]
  },
  {
   "cell_type": "markdown",
   "id": "c6a64402",
   "metadata": {},
   "source": [
    "The PSF can be manipulated in a variety of ways –– for purposes of this tutorial, we will perform a bicubic interpolation on our PSF, as well as calculate the fraction of light that should fall on a given pixel.  This will employ two of makePSFs primary functions, ```makePSF.bicubic``` and ```makePSF.real_psf```."
   ]
  },
  {
   "cell_type": "markdown",
   "id": "fc7e970b",
   "metadata": {},
   "source": [
    "### Bicubic Interpolation\n",
    "\n",
    "For our bicubic interpolation, we will use the following input parameters, selecting a reference point close to the source in the hopes of seeing more engaging results:\n",
    "\n",
    "* Reference x pixel (```ix```) – 85\n",
    "* Reference y pixel (```iy```) – 85\n",
    "* Pixel phase along the x-direction (```fx```) – 5\n",
    "* Pixel phase along the y-direction (```fy```) – 5"
   ]
  },
  {
   "cell_type": "code",
   "execution_count": null,
   "id": "b17a4ba6",
   "metadata": {},
   "outputs": [],
   "source": [
    "ix = iy = 85\n",
    "fx = fy = 5\n",
    "\n",
    "stips.utilities.makePSF.bicubic(test_psf, iy, ix, fx, fy)"
   ]
  },
  {
   "cell_type": "markdown",
   "id": "9a0f5a0b",
   "metadata": {},
   "source": [
    "Noted in the image below is the location at which the interpolation was performed (cropped for visibility)."
   ]
  },
  {
   "cell_type": "code",
   "execution_count": null,
   "id": "b2249868",
   "metadata": {},
   "outputs": [],
   "source": [
    "def plot_square_cutout(data, x_mid, y_mid, half):\n",
    "    '''\n",
    "    x_mid: index of middle x pixel in desired cutout region\n",
    "    y_mid: index of middle y pixel in desired cutout region\n",
    "    half: distance in pixels from middle pixel to edge of cutout\n",
    "    '''\n",
    "    \n",
    "    # create plot\n",
    "    fig, ax = plt.subplots(figsize=(4,4))\n",
    "    ax.imshow(data[x_mid - half:x_mid + half,\n",
    "                   y_mid - half:y_mid + half])\n",
    "    \n",
    "    # create custom formatters for cutout region axes (run once)\n",
    "    ticks_x = ticker.FuncFormatter(lambda x, pos: f\"{x + x_mid - half:.0f}\")\n",
    "    ticks_y = ticker.FuncFormatter(lambda y, pos: f\"{y + y_mid - half:.0f}\")\n",
    "    \n",
    "    # replace default tick labels with cutout pixel indices\n",
    "    ax.set_xticks([x for x in ax.get_xticks() if 0 <= x < half*2])\n",
    "    ax.set_yticks([y for y in ax.get_xticks() if 0 <= y < half*2])\n",
    "    ax.xaxis.set_major_formatter(ticks_x)\n",
    "    ax.yaxis.set_major_formatter(ticks_y)\n",
    "    \n",
    "    return fig, ax"
   ]
  },
  {
   "cell_type": "code",
   "execution_count": null,
   "id": "eb827956",
   "metadata": {},
   "outputs": [],
   "source": [
    "# Plot parameters\n",
    "x_mid = 88\n",
    "y_mid = 88\n",
    "half = 30\n",
    "\n",
    "fig0, ax0 = plot_square_cutout(test_psf, x_mid, y_mid, half)\n",
    "\n",
    "circ_bicubic = plt.Circle((half - 3, half - 3), 3, color='r', fill=False)\n",
    "\n",
    "ax0.add_patch(circ_bicubic)"
   ]
  },
  {
   "cell_type": "markdown",
   "id": "a5f81adf",
   "metadata": {},
   "source": [
    "### Fractional Light\n",
    "\n",
    "Using ```makePSF.real_psf```, we can caculate the fraction of light from our epsf that should fall on any given pixel.  We will use the following parameters:\n",
    "\n",
    "* Relative location of source along x-axis (```dx```) (note that 0 the default the center of the boxsize) –– 5\n",
    "* Relative location of the source along y-axis (```dy```) –– 5\n",
    "* Center of the input psf model (```psf_center```) (our PSF has dimensions of 177 by 177 px) –– 88\n",
    "* PSF boxsize (```boxsize```) –– 177\n",
    "\n",
    "#### Note:\n",
    "\n",
    "Currently, the default value of ```psf_center``` is set to 177, and default boxsize 44 –– this will be adjusted in future updates."
   ]
  },
  {
   "cell_type": "code",
   "execution_count": null,
   "id": "b51d47ec",
   "metadata": {},
   "outputs": [],
   "source": [
    "dx = dy = 5\n",
    "\n",
    "#The code below is designed to modify the default values for the center\n",
    "#and size of the PSF to fit the PSF being used –– this will be addressed\n",
    "#in future releases.\n",
    "\n",
    "psf_middle = round((test_psf[0].shape[0]-1)/2)\n",
    "\n",
    "PSF_BOXSIZE = np.floor(psf_middle)/4\n",
    "\n",
    "stips.utilities.makePSF.real_psf(dx, dy, test_psf, boxsize=PSF_BOXSIZE, psf_center=psf_middle)"
   ]
  },
  {
   "cell_type": "markdown",
   "id": "af41953b",
   "metadata": {},
   "source": [
    "Noted below is the location at which fractional light was evaluated."
   ]
  },
  {
   "cell_type": "code",
   "execution_count": null,
   "id": "17f972a4",
   "metadata": {},
   "outputs": [],
   "source": [
    "fig1_2, ax1_2 = plot_square_cutout(test_psf, x_mid, y_mid, half)\n",
    "\n",
    "circ_real_psf = plt.Circle((half + 5, half + 5), 3, color='r', fill=False)\n",
    "ax1_2.add_patch(circ_real_psf)"
   ]
  },
  {
   "cell_type": "markdown",
   "id": "0626186d",
   "metadata": {},
   "source": [
    "## Adding New Sources to a Scene\n",
    "\n",
    "To add a new source to our generated scene from the Basic Tutorial, we will use the ```place_source``` function from ```makePSF``` and insert a source with the following characteristics:\n",
    "\n",
    "* Location (px)\n",
    "    * x = 2000\n",
    "    * y = 2000\n",
    "* Flux = 15\n",
    "\n",
    "Note that, by default, the PSF upscale is 4.\n",
    "\n",
    "#### Note:\n",
    "\n",
    "Currently, the default value of ```psf_center``` is set to 177, and default boxsize 44 –– this will be adjusted in future updates."
   ]
  },
  {
   "cell_type": "markdown",
   "id": "a0de3c1b",
   "metadata": {},
   "source": [
    "### Original Scene\n",
    "\n",
    "Re-open the original scene from the saved output file –– by default, this file is \"notebook_example_1_0.fits\".  We will limit our area of view to the range in which the added source will be visible, between 1950 and 2150 pixels on each axis."
   ]
  },
  {
   "cell_type": "code",
   "execution_count": null,
   "id": "7b022fab",
   "metadata": {},
   "outputs": [],
   "source": [
    "with fits.open('notebooks_data/notebook_example_1_0.fits') as result_file:\n",
    "    result_data = result_file[1].data\n",
    "\n",
    "# Plot parameters\n",
    "x_mid2 = 2000\n",
    "y_mid2 = 2000\n",
    "half2 = 50\n",
    "\n",
    "fig2, ax2 = plot_square_cutout(result_data, x_mid2, y_mid2, half2)\n",
    "\n",
    "circ_no_source = plt.Circle((half2, half2), 3, color='r', fill=False)\n",
    "ax2.add_patch(circ_no_source)"
   ]
  },
  {
   "cell_type": "markdown",
   "id": "c407d0eb",
   "metadata": {},
   "source": [
    "### Add New Source\n",
    "\n",
    "We now use the ```makePSF.place_source``` function to add in our test PSF as a source (noting that the ```boxsize``` and ```psf_center``` parameters must be modified from their defaults for this particular PSF, as was the case with the ```makePSF.real_psf example```)."
   ]
  },
  {
   "cell_type": "code",
   "execution_count": null,
   "id": "93345760",
   "metadata": {},
   "outputs": [],
   "source": [
    "#The code below is designed to modify the default values for the center\n",
    "#and size of the PSF to fit the PSF being used –– this will be addressed\n",
    "#in future releases.\n",
    "\n",
    "psf_middle = round((test_psf[0].shape[0]-1)/2)\n",
    "\n",
    "PSF_BOXSIZE = np.floor(psf_middle)/4\n",
    "\n",
    "added_source = stips.utilities.makePSF.place_source(2000, 2000, 3000, result_data, test_psf, boxsize=PSF_BOXSIZE, psf_center=psf_middle)"
   ]
  },
  {
   "cell_type": "markdown",
   "id": "6d2fa392",
   "metadata": {},
   "source": [
    "We can now open our modified image and view our added source."
   ]
  },
  {
   "cell_type": "code",
   "execution_count": null,
   "id": "8d416fd1",
   "metadata": {},
   "outputs": [],
   "source": [
    "fig2_1, ax2_1 = plot_square_cutout(result_data, x_mid2, y_mid2, half2)\n",
    "\n",
    "circ_source = plt.Circle((half2, half2), 3, color='r', fill=False)\n",
    "ax2_1.add_patch(circ_source)"
   ]
  },
  {
   "cell_type": "markdown",
   "id": "b0b44ac2",
   "metadata": {},
   "source": [
    "## Conclusion\n",
    "\n",
    "This concludes the second portion of the advanced tutorial.  If you have further questions, check out the [STIPS documentation](https://stips.readthedocs.io/en/latest/), or reach out to the STIPS Helpdesk via email at help@stsci.edu with the subject line \"STIPS Question\"."
   ]
  }
 ],
 "metadata": {
  "kernelspec": {
   "display_name": "Python 3",
   "language": "python",
   "name": "python3"
  },
  "language_info": {
   "codemirror_mode": {
    "name": "ipython",
    "version": 3
   },
   "file_extension": ".py",
   "mimetype": "text/x-python",
   "name": "python",
   "nbconvert_exporter": "python",
   "pygments_lexer": "ipython3",
   "version": "3.7.4"
  }
 },
 "nbformat": 4,
 "nbformat_minor": 5
}
